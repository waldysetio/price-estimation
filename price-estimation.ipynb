{
  "nbformat": 4,
  "nbformat_minor": 0,
  "metadata": {
    "kernelspec": {
      "display_name": "Python 3",
      "language": "python",
      "name": "python3"
    },
    "language_info": {
      "codemirror_mode": {
        "name": "ipython",
        "version": 3
      },
      "file_extension": ".py",
      "mimetype": "text/x-python",
      "name": "python",
      "nbconvert_exporter": "python",
      "pygments_lexer": "ipython3",
      "version": "3.8.3"
    },
    "colab": {
      "name": "price-estimation.ipynb",
      "provenance": [],
      "collapsed_sections": []
    }
  },
  "cells": [
    {
      "cell_type": "markdown",
      "metadata": {
        "id": "WkFT8IQtbIPH"
      },
      "source": [
        "# **Property Rent Price Estimation**\n",
        "Author: Waldy Setiono (waldysetiono@gmail.com)"
      ]
    },
    {
      "cell_type": "markdown",
      "metadata": {
        "id": "MfwMCQ72bIPQ"
      },
      "source": [
        "**Background**: An online accomodation and space rental company based in South East Asia plans to expand its service area to Europe and the first city will be Paris. The company is now conducting research to determine the pricing strategy in order to compete with existing similar companies. There has been no standard method to determine how much a property owner should cost their customers so this company considers analyzing historical pricing data of one of its major competitors to predict its potential future service prices."
      ]
    },
    {
      "cell_type": "markdown",
      "metadata": {
        "id": "wW3XYETJbIPS"
      },
      "source": [
        "**Data**: The data used in this project is from [insideairbnb.com](http://insideairbnb.com/)."
      ]
    },
    {
      "cell_type": "markdown",
      "metadata": {
        "id": "7waOtK--bIPT"
      },
      "source": [
        "## **Outline**"
      ]
    },
    {
      "cell_type": "markdown",
      "metadata": {
        "id": "tnG6Tf3bbIPU"
      },
      "source": [
        "[1. Cleaning and Exploratory Data Analysis](##**Cleaning-and-Exploratory-Data-Analysis**)\n",
        "\n",
        "[2. Feature Engineering](##**Feature-Engineering**)\n",
        "\n",
        "[3. Model Development and Evaluation](##**Model-Development-and-Evaluation)\n"
      ]
    },
    {
      "cell_type": "markdown",
      "metadata": {
        "id": "kwxz9b36bIPV"
      },
      "source": [
        "## **Cleaning and Exploratory Data Analysis**"
      ]
    },
    {
      "cell_type": "markdown",
      "metadata": {
        "id": "Q2PI_Ead5YaM"
      },
      "source": [
        "**Import packages and load data**"
      ]
    },
    {
      "cell_type": "code",
      "metadata": {
        "id": "a-gy8ZYxbIPX"
      },
      "source": [
        "# Import packages\n",
        "import pandas as pd\n",
        "import numpy as np\n",
        "import seaborn as sns\n",
        "import matplotlib.pyplot as plt\n",
        "from datetime import datetime"
      ],
      "execution_count": 80,
      "outputs": []
    },
    {
      "cell_type": "code",
      "metadata": {
        "id": "f6hqj0a0bIPb",
        "colab": {
          "base_uri": "https://localhost:8080/",
          "height": 1000
        },
        "outputId": "08be0da1-27e9-4636-b883-fb751189600a"
      },
      "source": [
        "# Load and display the data\n",
        "data = pd.read_csv(\"https://raw.githubusercontent.com/waldysetio/price-estimation/main/data/listings.csv\")\n",
        "data"
      ],
      "execution_count": 116,
      "outputs": [
        {
          "output_type": "execute_result",
          "data": {
            "text/html": [
              "<div>\n",
              "<style scoped>\n",
              "    .dataframe tbody tr th:only-of-type {\n",
              "        vertical-align: middle;\n",
              "    }\n",
              "\n",
              "    .dataframe tbody tr th {\n",
              "        vertical-align: top;\n",
              "    }\n",
              "\n",
              "    .dataframe thead th {\n",
              "        text-align: right;\n",
              "    }\n",
              "</style>\n",
              "<table border=\"1\" class=\"dataframe\">\n",
              "  <thead>\n",
              "    <tr style=\"text-align: right;\">\n",
              "      <th></th>\n",
              "      <th>id</th>\n",
              "      <th>listing_url</th>\n",
              "      <th>scrape_id</th>\n",
              "      <th>last_scraped</th>\n",
              "      <th>name</th>\n",
              "      <th>description</th>\n",
              "      <th>neighborhood_overview</th>\n",
              "      <th>picture_url</th>\n",
              "      <th>host_id</th>\n",
              "      <th>host_url</th>\n",
              "      <th>host_name</th>\n",
              "      <th>host_since</th>\n",
              "      <th>host_location</th>\n",
              "      <th>host_about</th>\n",
              "      <th>host_response_time</th>\n",
              "      <th>host_response_rate</th>\n",
              "      <th>host_acceptance_rate</th>\n",
              "      <th>host_is_superhost</th>\n",
              "      <th>host_thumbnail_url</th>\n",
              "      <th>host_picture_url</th>\n",
              "      <th>host_neighbourhood</th>\n",
              "      <th>host_listings_count</th>\n",
              "      <th>host_total_listings_count</th>\n",
              "      <th>host_verifications</th>\n",
              "      <th>host_has_profile_pic</th>\n",
              "      <th>host_identity_verified</th>\n",
              "      <th>neighbourhood</th>\n",
              "      <th>neighbourhood_cleansed</th>\n",
              "      <th>neighbourhood_group_cleansed</th>\n",
              "      <th>latitude</th>\n",
              "      <th>longitude</th>\n",
              "      <th>property_type</th>\n",
              "      <th>room_type</th>\n",
              "      <th>accommodates</th>\n",
              "      <th>bathrooms</th>\n",
              "      <th>bathrooms_text</th>\n",
              "      <th>bedrooms</th>\n",
              "      <th>beds</th>\n",
              "      <th>amenities</th>\n",
              "      <th>price</th>\n",
              "      <th>minimum_nights</th>\n",
              "      <th>maximum_nights</th>\n",
              "      <th>minimum_minimum_nights</th>\n",
              "      <th>maximum_minimum_nights</th>\n",
              "      <th>minimum_maximum_nights</th>\n",
              "      <th>maximum_maximum_nights</th>\n",
              "      <th>minimum_nights_avg_ntm</th>\n",
              "      <th>maximum_nights_avg_ntm</th>\n",
              "      <th>calendar_updated</th>\n",
              "      <th>has_availability</th>\n",
              "      <th>availability_30</th>\n",
              "      <th>availability_60</th>\n",
              "      <th>availability_90</th>\n",
              "      <th>availability_365</th>\n",
              "      <th>calendar_last_scraped</th>\n",
              "      <th>number_of_reviews</th>\n",
              "      <th>number_of_reviews_ltm</th>\n",
              "      <th>number_of_reviews_l30d</th>\n",
              "      <th>first_review</th>\n",
              "      <th>last_review</th>\n",
              "      <th>review_scores_rating</th>\n",
              "      <th>review_scores_accuracy</th>\n",
              "      <th>review_scores_cleanliness</th>\n",
              "      <th>review_scores_checkin</th>\n",
              "      <th>review_scores_communication</th>\n",
              "      <th>review_scores_location</th>\n",
              "      <th>review_scores_value</th>\n",
              "      <th>license</th>\n",
              "      <th>instant_bookable</th>\n",
              "      <th>calculated_host_listings_count</th>\n",
              "      <th>calculated_host_listings_count_entire_homes</th>\n",
              "      <th>calculated_host_listings_count_private_rooms</th>\n",
              "      <th>calculated_host_listings_count_shared_rooms</th>\n",
              "      <th>reviews_per_month</th>\n",
              "    </tr>\n",
              "  </thead>\n",
              "  <tbody>\n",
              "    <tr>\n",
              "      <th>0</th>\n",
              "      <td>5396</td>\n",
              "      <td>https://www.airbnb.com/rooms/5396</td>\n",
              "      <td>20210909211521</td>\n",
              "      <td>2021-09-11</td>\n",
              "      <td>Explore the heart of old Paris</td>\n",
              "      <td>Cozy, well-appointed and graciously designed s...</td>\n",
              "      <td>You are within walking distance to the Louvre,...</td>\n",
              "      <td>https://a0.muscache.com/pictures/52413/f9bf76f...</td>\n",
              "      <td>7903</td>\n",
              "      <td>https://www.airbnb.com/users/show/7903</td>\n",
              "      <td>Borzou</td>\n",
              "      <td>2009-02-14</td>\n",
              "      <td>İstanbul, İstanbul, Turkey</td>\n",
              "      <td>The flat is owned by journalists who spend a l...</td>\n",
              "      <td>within an hour</td>\n",
              "      <td>100%</td>\n",
              "      <td>89%</td>\n",
              "      <td>f</td>\n",
              "      <td>https://a0.muscache.com/im/users/7903/profile_...</td>\n",
              "      <td>https://a0.muscache.com/im/users/7903/profile_...</td>\n",
              "      <td>Saint-Paul - Ile Saint-Louis</td>\n",
              "      <td>1.0</td>\n",
              "      <td>1.0</td>\n",
              "      <td>['email', 'phone', 'facebook', 'google', 'revi...</td>\n",
              "      <td>t</td>\n",
              "      <td>t</td>\n",
              "      <td>Paris, Ile-de-France, France</td>\n",
              "      <td>Hôtel-de-Ville</td>\n",
              "      <td>NaN</td>\n",
              "      <td>48.85247</td>\n",
              "      <td>2.35835</td>\n",
              "      <td>Entire rental unit</td>\n",
              "      <td>Entire home/apt</td>\n",
              "      <td>2</td>\n",
              "      <td>NaN</td>\n",
              "      <td>1 bath</td>\n",
              "      <td>NaN</td>\n",
              "      <td>1.0</td>\n",
              "      <td>[\"Hot water kettle\", \"Cooking basics\", \"Smoke ...</td>\n",
              "      <td>$110.00</td>\n",
              "      <td>2</td>\n",
              "      <td>1125</td>\n",
              "      <td>2</td>\n",
              "      <td>2</td>\n",
              "      <td>1125</td>\n",
              "      <td>1125</td>\n",
              "      <td>2.0</td>\n",
              "      <td>1125.0</td>\n",
              "      <td>NaN</td>\n",
              "      <td>t</td>\n",
              "      <td>0</td>\n",
              "      <td>3</td>\n",
              "      <td>29</td>\n",
              "      <td>29</td>\n",
              "      <td>2021-09-11</td>\n",
              "      <td>260</td>\n",
              "      <td>35</td>\n",
              "      <td>3</td>\n",
              "      <td>2013-09-22</td>\n",
              "      <td>2020-08-08</td>\n",
              "      <td>4.51</td>\n",
              "      <td>4.55</td>\n",
              "      <td>4.47</td>\n",
              "      <td>4.78</td>\n",
              "      <td>4.82</td>\n",
              "      <td>4.96</td>\n",
              "      <td>4.53</td>\n",
              "      <td>7510402838018</td>\n",
              "      <td>f</td>\n",
              "      <td>1</td>\n",
              "      <td>1</td>\n",
              "      <td>0</td>\n",
              "      <td>0</td>\n",
              "      <td>2.68</td>\n",
              "    </tr>\n",
              "    <tr>\n",
              "      <th>1</th>\n",
              "      <td>7397</td>\n",
              "      <td>https://www.airbnb.com/rooms/7397</td>\n",
              "      <td>20210909211521</td>\n",
              "      <td>2021-09-11</td>\n",
              "      <td>MARAIS - 2ROOMS APT - 2/4 PEOPLE</td>\n",
              "      <td>VERY CONVENIENT, WITH THE BEST LOCATION !&lt;br /...</td>\n",
              "      <td>NaN</td>\n",
              "      <td>https://a0.muscache.com/pictures/67928287/330b...</td>\n",
              "      <td>2626</td>\n",
              "      <td>https://www.airbnb.com/users/show/2626</td>\n",
              "      <td>Franck</td>\n",
              "      <td>2008-08-30</td>\n",
              "      <td>Paris, Île-de-France, France</td>\n",
              "      <td>I am a writer,51, author of novels, books of l...</td>\n",
              "      <td>within an hour</td>\n",
              "      <td>100%</td>\n",
              "      <td>80%</td>\n",
              "      <td>t</td>\n",
              "      <td>https://a0.muscache.com/im/pictures/user/58f00...</td>\n",
              "      <td>https://a0.muscache.com/im/pictures/user/58f00...</td>\n",
              "      <td>Le Marais</td>\n",
              "      <td>4.0</td>\n",
              "      <td>4.0</td>\n",
              "      <td>['email', 'phone', 'reviews', 'jumio', 'offlin...</td>\n",
              "      <td>t</td>\n",
              "      <td>t</td>\n",
              "      <td>NaN</td>\n",
              "      <td>Hôtel-de-Ville</td>\n",
              "      <td>NaN</td>\n",
              "      <td>48.85909</td>\n",
              "      <td>2.35315</td>\n",
              "      <td>Entire rental unit</td>\n",
              "      <td>Entire home/apt</td>\n",
              "      <td>4</td>\n",
              "      <td>NaN</td>\n",
              "      <td>1 bath</td>\n",
              "      <td>2.0</td>\n",
              "      <td>2.0</td>\n",
              "      <td>[\"Cooking basics\", \"Smoke alarm\", \"Iron\", \"Ove...</td>\n",
              "      <td>$100.00</td>\n",
              "      <td>10</td>\n",
              "      <td>130</td>\n",
              "      <td>10</td>\n",
              "      <td>10</td>\n",
              "      <td>130</td>\n",
              "      <td>130</td>\n",
              "      <td>10.0</td>\n",
              "      <td>130.0</td>\n",
              "      <td>NaN</td>\n",
              "      <td>t</td>\n",
              "      <td>0</td>\n",
              "      <td>0</td>\n",
              "      <td>20</td>\n",
              "      <td>257</td>\n",
              "      <td>2021-09-11</td>\n",
              "      <td>278</td>\n",
              "      <td>9</td>\n",
              "      <td>2</td>\n",
              "      <td>2011-08-11</td>\n",
              "      <td>2021-08-18</td>\n",
              "      <td>4.70</td>\n",
              "      <td>4.79</td>\n",
              "      <td>4.44</td>\n",
              "      <td>4.91</td>\n",
              "      <td>4.88</td>\n",
              "      <td>4.92</td>\n",
              "      <td>4.70</td>\n",
              "      <td>7510400829623</td>\n",
              "      <td>f</td>\n",
              "      <td>1</td>\n",
              "      <td>1</td>\n",
              "      <td>0</td>\n",
              "      <td>0</td>\n",
              "      <td>2.26</td>\n",
              "    </tr>\n",
              "    <tr>\n",
              "      <th>2</th>\n",
              "      <td>7964</td>\n",
              "      <td>https://www.airbnb.com/rooms/7964</td>\n",
              "      <td>20210909211521</td>\n",
              "      <td>2021-09-11</td>\n",
              "      <td>Large &amp; sunny flat with balcony !</td>\n",
              "      <td>Very large &amp; nice apartment all for you! &lt;br /...</td>\n",
              "      <td>NaN</td>\n",
              "      <td>https://a0.muscache.com/pictures/4471349/6fb3d...</td>\n",
              "      <td>22155</td>\n",
              "      <td>https://www.airbnb.com/users/show/22155</td>\n",
              "      <td>Anaïs</td>\n",
              "      <td>2009-06-18</td>\n",
              "      <td>Paris, Île-de-France, France</td>\n",
              "      <td>Hello ! \\r\\nOur apartment is great and I am su...</td>\n",
              "      <td>within a day</td>\n",
              "      <td>60%</td>\n",
              "      <td>0%</td>\n",
              "      <td>f</td>\n",
              "      <td>https://a0.muscache.com/im/users/22155/profile...</td>\n",
              "      <td>https://a0.muscache.com/im/users/22155/profile...</td>\n",
              "      <td>Gare du Nord - Gare de I'Est</td>\n",
              "      <td>0.0</td>\n",
              "      <td>0.0</td>\n",
              "      <td>['email', 'phone', 'reviews', 'jumio', 'offlin...</td>\n",
              "      <td>t</td>\n",
              "      <td>t</td>\n",
              "      <td>NaN</td>\n",
              "      <td>Opéra</td>\n",
              "      <td>NaN</td>\n",
              "      <td>48.87417</td>\n",
              "      <td>2.34245</td>\n",
              "      <td>Entire rental unit</td>\n",
              "      <td>Entire home/apt</td>\n",
              "      <td>2</td>\n",
              "      <td>NaN</td>\n",
              "      <td>1 bath</td>\n",
              "      <td>1.0</td>\n",
              "      <td>1.0</td>\n",
              "      <td>[\"Essentials\", \"TV with standard cable\", \"Wifi...</td>\n",
              "      <td>$130.00</td>\n",
              "      <td>6</td>\n",
              "      <td>365</td>\n",
              "      <td>6</td>\n",
              "      <td>6</td>\n",
              "      <td>365</td>\n",
              "      <td>365</td>\n",
              "      <td>6.0</td>\n",
              "      <td>365.0</td>\n",
              "      <td>NaN</td>\n",
              "      <td>t</td>\n",
              "      <td>13</td>\n",
              "      <td>43</td>\n",
              "      <td>73</td>\n",
              "      <td>348</td>\n",
              "      <td>2021-09-11</td>\n",
              "      <td>6</td>\n",
              "      <td>0</td>\n",
              "      <td>0</td>\n",
              "      <td>2014-09-11</td>\n",
              "      <td>2015-09-14</td>\n",
              "      <td>4.80</td>\n",
              "      <td>5.00</td>\n",
              "      <td>5.00</td>\n",
              "      <td>5.00</td>\n",
              "      <td>5.00</td>\n",
              "      <td>5.00</td>\n",
              "      <td>5.00</td>\n",
              "      <td>7510903576564</td>\n",
              "      <td>f</td>\n",
              "      <td>1</td>\n",
              "      <td>1</td>\n",
              "      <td>0</td>\n",
              "      <td>0</td>\n",
              "      <td>0.07</td>\n",
              "    </tr>\n",
              "    <tr>\n",
              "      <th>3</th>\n",
              "      <td>9359</td>\n",
              "      <td>https://www.airbnb.com/rooms/9359</td>\n",
              "      <td>20210909211521</td>\n",
              "      <td>2021-09-11</td>\n",
              "      <td>Cozy, Central Paris: WALK or VELIB EVERYWHERE !</td>\n",
              "      <td>Location! Location! Location! Just bring your ...</td>\n",
              "      <td>NaN</td>\n",
              "      <td>https://a0.muscache.com/pictures/c2965945-061f...</td>\n",
              "      <td>28422</td>\n",
              "      <td>https://www.airbnb.com/users/show/28422</td>\n",
              "      <td>Bernadette</td>\n",
              "      <td>2009-07-29</td>\n",
              "      <td>New York, New York, United States</td>\n",
              "      <td>I am a Native New Yorker (yes, I was born and ...</td>\n",
              "      <td>within an hour</td>\n",
              "      <td>100%</td>\n",
              "      <td>20%</td>\n",
              "      <td>f</td>\n",
              "      <td>https://a0.muscache.com/im/users/28422/profile...</td>\n",
              "      <td>https://a0.muscache.com/im/users/28422/profile...</td>\n",
              "      <td>Châtelet - Les Halles - Beaubourg</td>\n",
              "      <td>3.0</td>\n",
              "      <td>3.0</td>\n",
              "      <td>['email', 'phone', 'reviews', 'jumio', 'offlin...</td>\n",
              "      <td>t</td>\n",
              "      <td>t</td>\n",
              "      <td>NaN</td>\n",
              "      <td>Louvre</td>\n",
              "      <td>NaN</td>\n",
              "      <td>48.86006</td>\n",
              "      <td>2.34863</td>\n",
              "      <td>Entire rental unit</td>\n",
              "      <td>Entire home/apt</td>\n",
              "      <td>2</td>\n",
              "      <td>NaN</td>\n",
              "      <td>1 bath</td>\n",
              "      <td>1.0</td>\n",
              "      <td>1.0</td>\n",
              "      <td>[\"Essentials\", \"Wifi\", \"Kitchen\", \"Hair dryer\"...</td>\n",
              "      <td>$75.00</td>\n",
              "      <td>180</td>\n",
              "      <td>365</td>\n",
              "      <td>180</td>\n",
              "      <td>180</td>\n",
              "      <td>365</td>\n",
              "      <td>365</td>\n",
              "      <td>180.0</td>\n",
              "      <td>365.0</td>\n",
              "      <td>NaN</td>\n",
              "      <td>t</td>\n",
              "      <td>0</td>\n",
              "      <td>0</td>\n",
              "      <td>0</td>\n",
              "      <td>28</td>\n",
              "      <td>2021-09-11</td>\n",
              "      <td>0</td>\n",
              "      <td>0</td>\n",
              "      <td>0</td>\n",
              "      <td>NaN</td>\n",
              "      <td>NaN</td>\n",
              "      <td>NaN</td>\n",
              "      <td>NaN</td>\n",
              "      <td>NaN</td>\n",
              "      <td>NaN</td>\n",
              "      <td>NaN</td>\n",
              "      <td>NaN</td>\n",
              "      <td>NaN</td>\n",
              "      <td>Available with a mobility lease only (\"bail mo...</td>\n",
              "      <td>f</td>\n",
              "      <td>1</td>\n",
              "      <td>1</td>\n",
              "      <td>0</td>\n",
              "      <td>0</td>\n",
              "      <td>NaN</td>\n",
              "    </tr>\n",
              "    <tr>\n",
              "      <th>4</th>\n",
              "      <td>9952</td>\n",
              "      <td>https://www.airbnb.com/rooms/9952</td>\n",
              "      <td>20210909211521</td>\n",
              "      <td>2021-09-11</td>\n",
              "      <td>Paris petit coin douillet</td>\n",
              "      <td>Je suis une dame retraitée, qui propose un agr...</td>\n",
              "      <td>Vibrant neighborhood, full of bars, cafés, fre...</td>\n",
              "      <td>https://a0.muscache.com/pictures/ae822d16-74d2...</td>\n",
              "      <td>33534</td>\n",
              "      <td>https://www.airbnb.com/users/show/33534</td>\n",
              "      <td>Elisabeth</td>\n",
              "      <td>2009-08-24</td>\n",
              "      <td>Paris, Île-de-France, France</td>\n",
              "      <td>Parisienne retraitée, dynamique et accueillant...</td>\n",
              "      <td>within an hour</td>\n",
              "      <td>100%</td>\n",
              "      <td>100%</td>\n",
              "      <td>t</td>\n",
              "      <td>https://a0.muscache.com/im/pictures/user/4f775...</td>\n",
              "      <td>https://a0.muscache.com/im/pictures/user/4f775...</td>\n",
              "      <td>République</td>\n",
              "      <td>1.0</td>\n",
              "      <td>1.0</td>\n",
              "      <td>['email', 'phone', 'reviews', 'jumio', 'offlin...</td>\n",
              "      <td>t</td>\n",
              "      <td>t</td>\n",
              "      <td>Paris, Ile-de-France, France</td>\n",
              "      <td>Popincourt</td>\n",
              "      <td>NaN</td>\n",
              "      <td>48.86373</td>\n",
              "      <td>2.37093</td>\n",
              "      <td>Entire rental unit</td>\n",
              "      <td>Entire home/apt</td>\n",
              "      <td>2</td>\n",
              "      <td>NaN</td>\n",
              "      <td>1 bath</td>\n",
              "      <td>1.0</td>\n",
              "      <td>1.0</td>\n",
              "      <td>[\"TV\", \"Cooking basics\", \"Smoke alarm\", \"Lugga...</td>\n",
              "      <td>$80.00</td>\n",
              "      <td>4</td>\n",
              "      <td>31</td>\n",
              "      <td>4</td>\n",
              "      <td>4</td>\n",
              "      <td>31</td>\n",
              "      <td>31</td>\n",
              "      <td>4.0</td>\n",
              "      <td>31.0</td>\n",
              "      <td>NaN</td>\n",
              "      <td>t</td>\n",
              "      <td>1</td>\n",
              "      <td>2</td>\n",
              "      <td>2</td>\n",
              "      <td>198</td>\n",
              "      <td>2021-09-11</td>\n",
              "      <td>31</td>\n",
              "      <td>6</td>\n",
              "      <td>1</td>\n",
              "      <td>2016-08-04</td>\n",
              "      <td>2021-06-23</td>\n",
              "      <td>4.94</td>\n",
              "      <td>4.97</td>\n",
              "      <td>4.87</td>\n",
              "      <td>5.00</td>\n",
              "      <td>4.90</td>\n",
              "      <td>4.90</td>\n",
              "      <td>4.94</td>\n",
              "      <td>7511101582862</td>\n",
              "      <td>f</td>\n",
              "      <td>1</td>\n",
              "      <td>1</td>\n",
              "      <td>0</td>\n",
              "      <td>0</td>\n",
              "      <td>0.50</td>\n",
              "    </tr>\n",
              "    <tr>\n",
              "      <th>...</th>\n",
              "      <td>...</td>\n",
              "      <td>...</td>\n",
              "      <td>...</td>\n",
              "      <td>...</td>\n",
              "      <td>...</td>\n",
              "      <td>...</td>\n",
              "      <td>...</td>\n",
              "      <td>...</td>\n",
              "      <td>...</td>\n",
              "      <td>...</td>\n",
              "      <td>...</td>\n",
              "      <td>...</td>\n",
              "      <td>...</td>\n",
              "      <td>...</td>\n",
              "      <td>...</td>\n",
              "      <td>...</td>\n",
              "      <td>...</td>\n",
              "      <td>...</td>\n",
              "      <td>...</td>\n",
              "      <td>...</td>\n",
              "      <td>...</td>\n",
              "      <td>...</td>\n",
              "      <td>...</td>\n",
              "      <td>...</td>\n",
              "      <td>...</td>\n",
              "      <td>...</td>\n",
              "      <td>...</td>\n",
              "      <td>...</td>\n",
              "      <td>...</td>\n",
              "      <td>...</td>\n",
              "      <td>...</td>\n",
              "      <td>...</td>\n",
              "      <td>...</td>\n",
              "      <td>...</td>\n",
              "      <td>...</td>\n",
              "      <td>...</td>\n",
              "      <td>...</td>\n",
              "      <td>...</td>\n",
              "      <td>...</td>\n",
              "      <td>...</td>\n",
              "      <td>...</td>\n",
              "      <td>...</td>\n",
              "      <td>...</td>\n",
              "      <td>...</td>\n",
              "      <td>...</td>\n",
              "      <td>...</td>\n",
              "      <td>...</td>\n",
              "      <td>...</td>\n",
              "      <td>...</td>\n",
              "      <td>...</td>\n",
              "      <td>...</td>\n",
              "      <td>...</td>\n",
              "      <td>...</td>\n",
              "      <td>...</td>\n",
              "      <td>...</td>\n",
              "      <td>...</td>\n",
              "      <td>...</td>\n",
              "      <td>...</td>\n",
              "      <td>...</td>\n",
              "      <td>...</td>\n",
              "      <td>...</td>\n",
              "      <td>...</td>\n",
              "      <td>...</td>\n",
              "      <td>...</td>\n",
              "      <td>...</td>\n",
              "      <td>...</td>\n",
              "      <td>...</td>\n",
              "      <td>...</td>\n",
              "      <td>...</td>\n",
              "      <td>...</td>\n",
              "      <td>...</td>\n",
              "      <td>...</td>\n",
              "      <td>...</td>\n",
              "      <td>...</td>\n",
              "    </tr>\n",
              "    <tr>\n",
              "      <th>9768</th>\n",
              "      <td>8851179</td>\n",
              "      <td>https://www.airbnb.com/rooms/8851179</td>\n",
              "      <td>20210909211521</td>\n",
              "      <td>2021-09-11</td>\n",
              "      <td>Fabulous 2 beds Eiffel Tower View</td>\n",
              "      <td>Welcome to this brand new fabulous apartment w...</td>\n",
              "      <td>Paris Expo Porte de Versailles - Exhibition Ce...</td>\n",
              "      <td>https://a0.muscache.com/pictures/d8f01c31-bb00...</td>\n",
              "      <td>4778317</td>\n",
              "      <td>https://www.airbnb.com/users/show/4778317</td>\n",
              "      <td>Mark</td>\n",
              "      <td>2013-01-20</td>\n",
              "      <td>United States</td>\n",
              "      <td>We live in Paris since 2002... so we have lots...</td>\n",
              "      <td>NaN</td>\n",
              "      <td>NaN</td>\n",
              "      <td>NaN</td>\n",
              "      <td>t</td>\n",
              "      <td>https://a0.muscache.com/im/pictures/user/3b86c...</td>\n",
              "      <td>https://a0.muscache.com/im/pictures/user/3b86c...</td>\n",
              "      <td>Porte de Versailles</td>\n",
              "      <td>1.0</td>\n",
              "      <td>1.0</td>\n",
              "      <td>['email', 'phone', 'reviews', 'jumio', 'govern...</td>\n",
              "      <td>t</td>\n",
              "      <td>t</td>\n",
              "      <td>Paris, Île-de-France, France</td>\n",
              "      <td>Vaugirard</td>\n",
              "      <td>NaN</td>\n",
              "      <td>48.83691</td>\n",
              "      <td>2.28888</td>\n",
              "      <td>Entire condominium (condo)</td>\n",
              "      <td>Entire home/apt</td>\n",
              "      <td>4</td>\n",
              "      <td>NaN</td>\n",
              "      <td>1 bath</td>\n",
              "      <td>2.0</td>\n",
              "      <td>2.0</td>\n",
              "      <td>[\"Cooking basics\", \"Smoke alarm\", \"Luggage dro...</td>\n",
              "      <td>$298.00</td>\n",
              "      <td>1</td>\n",
              "      <td>1125</td>\n",
              "      <td>1</td>\n",
              "      <td>1</td>\n",
              "      <td>1125</td>\n",
              "      <td>1125</td>\n",
              "      <td>1.0</td>\n",
              "      <td>1125.0</td>\n",
              "      <td>NaN</td>\n",
              "      <td>t</td>\n",
              "      <td>22</td>\n",
              "      <td>52</td>\n",
              "      <td>82</td>\n",
              "      <td>262</td>\n",
              "      <td>2021-09-11</td>\n",
              "      <td>160</td>\n",
              "      <td>7</td>\n",
              "      <td>1</td>\n",
              "      <td>2016-03-28</td>\n",
              "      <td>2021-08-10</td>\n",
              "      <td>4.94</td>\n",
              "      <td>4.96</td>\n",
              "      <td>4.98</td>\n",
              "      <td>4.97</td>\n",
              "      <td>4.96</td>\n",
              "      <td>4.68</td>\n",
              "      <td>4.77</td>\n",
              "      <td>7510100371034</td>\n",
              "      <td>f</td>\n",
              "      <td>1</td>\n",
              "      <td>1</td>\n",
              "      <td>0</td>\n",
              "      <td>0</td>\n",
              "      <td>2.41</td>\n",
              "    </tr>\n",
              "    <tr>\n",
              "      <th>9769</th>\n",
              "      <td>8852290</td>\n",
              "      <td>https://www.airbnb.com/rooms/8852290</td>\n",
              "      <td>20210909211521</td>\n",
              "      <td>2021-09-10</td>\n",
              "      <td>A charming artist's apartment</td>\n",
              "      <td>This is a 35m2 sunny and calm apartment. It’s ...</td>\n",
              "      <td>The quarter is well known for its bars, restau...</td>\n",
              "      <td>https://a0.muscache.com/pictures/b1f9bd10-ed0f...</td>\n",
              "      <td>8303814</td>\n",
              "      <td>https://www.airbnb.com/users/show/8303814</td>\n",
              "      <td>Camille</td>\n",
              "      <td>2013-08-21</td>\n",
              "      <td>Paris, Île-de-France, France</td>\n",
              "      <td>NaN</td>\n",
              "      <td>NaN</td>\n",
              "      <td>NaN</td>\n",
              "      <td>NaN</td>\n",
              "      <td>f</td>\n",
              "      <td>https://a0.muscache.com/im/pictures/user/5089f...</td>\n",
              "      <td>https://a0.muscache.com/im/pictures/user/5089f...</td>\n",
              "      <td>République</td>\n",
              "      <td>1.0</td>\n",
              "      <td>1.0</td>\n",
              "      <td>['email', 'phone', 'reviews', 'jumio', 'govern...</td>\n",
              "      <td>t</td>\n",
              "      <td>t</td>\n",
              "      <td>Paris, Île-de-France, France</td>\n",
              "      <td>Popincourt</td>\n",
              "      <td>NaN</td>\n",
              "      <td>48.86401</td>\n",
              "      <td>2.36789</td>\n",
              "      <td>Entire rental unit</td>\n",
              "      <td>Entire home/apt</td>\n",
              "      <td>2</td>\n",
              "      <td>NaN</td>\n",
              "      <td>1 bath</td>\n",
              "      <td>1.0</td>\n",
              "      <td>1.0</td>\n",
              "      <td>[\"Essentials\", \"Wifi\", \"Dedicated workspace\", ...</td>\n",
              "      <td>$95.00</td>\n",
              "      <td>365</td>\n",
              "      <td>1125</td>\n",
              "      <td>365</td>\n",
              "      <td>365</td>\n",
              "      <td>1125</td>\n",
              "      <td>1125</td>\n",
              "      <td>365.0</td>\n",
              "      <td>1125.0</td>\n",
              "      <td>NaN</td>\n",
              "      <td>t</td>\n",
              "      <td>28</td>\n",
              "      <td>58</td>\n",
              "      <td>88</td>\n",
              "      <td>363</td>\n",
              "      <td>2021-09-10</td>\n",
              "      <td>21</td>\n",
              "      <td>0</td>\n",
              "      <td>0</td>\n",
              "      <td>2016-10-16</td>\n",
              "      <td>2017-10-19</td>\n",
              "      <td>4.71</td>\n",
              "      <td>4.88</td>\n",
              "      <td>4.53</td>\n",
              "      <td>4.75</td>\n",
              "      <td>4.82</td>\n",
              "      <td>5.00</td>\n",
              "      <td>4.69</td>\n",
              "      <td>NaN</td>\n",
              "      <td>t</td>\n",
              "      <td>1</td>\n",
              "      <td>1</td>\n",
              "      <td>0</td>\n",
              "      <td>0</td>\n",
              "      <td>0.35</td>\n",
              "    </tr>\n",
              "    <tr>\n",
              "      <th>9770</th>\n",
              "      <td>8853567</td>\n",
              "      <td>https://www.airbnb.com/rooms/8853567</td>\n",
              "      <td>20210909211521</td>\n",
              "      <td>2021-09-10</td>\n",
              "      <td>Your Cosy Home in Paris</td>\n",
              "      <td>I'm offering a lovely 1-room apartment in the ...</td>\n",
              "      <td>NaN</td>\n",
              "      <td>https://a0.muscache.com/pictures/7cf2dd77-5e3b...</td>\n",
              "      <td>22424477</td>\n",
              "      <td>https://www.airbnb.com/users/show/22424477</td>\n",
              "      <td>Alix</td>\n",
              "      <td>2014-10-12</td>\n",
              "      <td>Paris, Île-de-France, France</td>\n",
              "      <td>I'm a 25-year-old girl from Paris. \\r\\n\\r\\nI w...</td>\n",
              "      <td>NaN</td>\n",
              "      <td>NaN</td>\n",
              "      <td>NaN</td>\n",
              "      <td>f</td>\n",
              "      <td>https://a0.muscache.com/im/users/22424477/prof...</td>\n",
              "      <td>https://a0.muscache.com/im/users/22424477/prof...</td>\n",
              "      <td>Saint-Germain-des-Prés - Odéon</td>\n",
              "      <td>1.0</td>\n",
              "      <td>1.0</td>\n",
              "      <td>['email', 'phone', 'reviews', 'jumio', 'offlin...</td>\n",
              "      <td>t</td>\n",
              "      <td>t</td>\n",
              "      <td>NaN</td>\n",
              "      <td>Palais-Bourbon</td>\n",
              "      <td>NaN</td>\n",
              "      <td>48.85644</td>\n",
              "      <td>2.33055</td>\n",
              "      <td>Entire rental unit</td>\n",
              "      <td>Entire home/apt</td>\n",
              "      <td>2</td>\n",
              "      <td>NaN</td>\n",
              "      <td>1 bath</td>\n",
              "      <td>NaN</td>\n",
              "      <td>1.0</td>\n",
              "      <td>[\"Essentials\", \"Wifi\", \"Kitchen\", \"Smoke alarm...</td>\n",
              "      <td>$60.00</td>\n",
              "      <td>365</td>\n",
              "      <td>1125</td>\n",
              "      <td>365</td>\n",
              "      <td>365</td>\n",
              "      <td>1125</td>\n",
              "      <td>1125</td>\n",
              "      <td>365.0</td>\n",
              "      <td>1125.0</td>\n",
              "      <td>NaN</td>\n",
              "      <td>t</td>\n",
              "      <td>0</td>\n",
              "      <td>0</td>\n",
              "      <td>0</td>\n",
              "      <td>0</td>\n",
              "      <td>2021-09-10</td>\n",
              "      <td>19</td>\n",
              "      <td>0</td>\n",
              "      <td>0</td>\n",
              "      <td>2016-03-20</td>\n",
              "      <td>2016-02-05</td>\n",
              "      <td>4.39</td>\n",
              "      <td>4.35</td>\n",
              "      <td>4.29</td>\n",
              "      <td>4.65</td>\n",
              "      <td>4.82</td>\n",
              "      <td>5.00</td>\n",
              "      <td>4.41</td>\n",
              "      <td>NaN</td>\n",
              "      <td>t</td>\n",
              "      <td>1</td>\n",
              "      <td>1</td>\n",
              "      <td>0</td>\n",
              "      <td>0</td>\n",
              "      <td>0.28</td>\n",
              "    </tr>\n",
              "    <tr>\n",
              "      <th>9771</th>\n",
              "      <td>8854749</td>\n",
              "      <td>https://www.airbnb.com/rooms/8854749</td>\n",
              "      <td>20210909211521</td>\n",
              "      <td>2021-09-10</td>\n",
              "      <td>Appartement cosy et chaleureux</td>\n",
              "      <td>Appartement de 40m²,très calme, situé dans le ...</td>\n",
              "      <td>NaN</td>\n",
              "      <td>https://a0.muscache.com/pictures/fdfa979d-4c40...</td>\n",
              "      <td>46361652</td>\n",
              "      <td>https://www.airbnb.com/users/show/46361652</td>\n",
              "      <td>Inès</td>\n",
              "      <td>2015-10-12</td>\n",
              "      <td>FR</td>\n",
              "      <td>NaN</td>\n",
              "      <td>NaN</td>\n",
              "      <td>NaN</td>\n",
              "      <td>NaN</td>\n",
              "      <td>f</td>\n",
              "      <td>https://a0.muscache.com/im/pictures/user/187d1...</td>\n",
              "      <td>https://a0.muscache.com/im/pictures/user/187d1...</td>\n",
              "      <td>Porte de Clignancourt</td>\n",
              "      <td>1.0</td>\n",
              "      <td>1.0</td>\n",
              "      <td>['email', 'phone']</td>\n",
              "      <td>t</td>\n",
              "      <td>f</td>\n",
              "      <td>NaN</td>\n",
              "      <td>Buttes-Montmartre</td>\n",
              "      <td>NaN</td>\n",
              "      <td>48.89666</td>\n",
              "      <td>2.34593</td>\n",
              "      <td>Entire rental unit</td>\n",
              "      <td>Entire home/apt</td>\n",
              "      <td>3</td>\n",
              "      <td>NaN</td>\n",
              "      <td>1 bath</td>\n",
              "      <td>2.0</td>\n",
              "      <td>2.0</td>\n",
              "      <td>[\"Fire extinguisher\", \"Essentials\", \"TV with s...</td>\n",
              "      <td>$65.00</td>\n",
              "      <td>365</td>\n",
              "      <td>1125</td>\n",
              "      <td>365</td>\n",
              "      <td>365</td>\n",
              "      <td>1125</td>\n",
              "      <td>1125</td>\n",
              "      <td>365.0</td>\n",
              "      <td>1125.0</td>\n",
              "      <td>NaN</td>\n",
              "      <td>t</td>\n",
              "      <td>0</td>\n",
              "      <td>0</td>\n",
              "      <td>0</td>\n",
              "      <td>0</td>\n",
              "      <td>2021-09-10</td>\n",
              "      <td>0</td>\n",
              "      <td>0</td>\n",
              "      <td>0</td>\n",
              "      <td>NaN</td>\n",
              "      <td>NaN</td>\n",
              "      <td>NaN</td>\n",
              "      <td>NaN</td>\n",
              "      <td>NaN</td>\n",
              "      <td>NaN</td>\n",
              "      <td>NaN</td>\n",
              "      <td>NaN</td>\n",
              "      <td>NaN</td>\n",
              "      <td>NaN</td>\n",
              "      <td>f</td>\n",
              "      <td>1</td>\n",
              "      <td>1</td>\n",
              "      <td>0</td>\n",
              "      <td>0</td>\n",
              "      <td>NaN</td>\n",
              "    </tr>\n",
              "    <tr>\n",
              "      <th>9772</th>\n",
              "      <td>8854802</td>\n",
              "      <td>https://www.airbnb.com/rooms/8854802</td>\n",
              "      <td>20210909211521</td>\n",
              "      <td>2021-09-11</td>\n",
              "      <td>At the heart of Paris!</td>\n",
              "      <td>Very beautiful spacious apartment in an old bu...</td>\n",
              "      <td>Heart of the Latin Quarter, very animated, wit...</td>\n",
              "      <td>https://a0.muscache.com/pictures/1b51ab5a-5f62...</td>\n",
              "      <td>23296249</td>\n",
              "      <td>https://www.airbnb.com/users/show/23296249</td>\n",
              "      <td>Isabelle</td>\n",
              "      <td>2014-11-03</td>\n",
              "      <td>Paris, Île-de-France, France</td>\n",
              "      <td>Isabelle, tout simplement ! Une vraie parisien...</td>\n",
              "      <td>within a few hours</td>\n",
              "      <td>100%</td>\n",
              "      <td>67%</td>\n",
              "      <td>f</td>\n",
              "      <td>https://a0.muscache.com/im/pictures/user/11f3e...</td>\n",
              "      <td>https://a0.muscache.com/im/pictures/user/11f3e...</td>\n",
              "      <td>Panthéon</td>\n",
              "      <td>2.0</td>\n",
              "      <td>2.0</td>\n",
              "      <td>['email', 'phone', 'facebook', 'reviews', 'jum...</td>\n",
              "      <td>t</td>\n",
              "      <td>t</td>\n",
              "      <td>Paris, Île-de-France, France</td>\n",
              "      <td>Panthéon</td>\n",
              "      <td>NaN</td>\n",
              "      <td>48.84956</td>\n",
              "      <td>2.35369</td>\n",
              "      <td>Entire rental unit</td>\n",
              "      <td>Entire home/apt</td>\n",
              "      <td>4</td>\n",
              "      <td>NaN</td>\n",
              "      <td>1 bath</td>\n",
              "      <td>1.0</td>\n",
              "      <td>2.0</td>\n",
              "      <td>[\"Indoor fireplace\", \"Essentials\", \"Breakfast\"...</td>\n",
              "      <td>$109.00</td>\n",
              "      <td>7</td>\n",
              "      <td>300</td>\n",
              "      <td>7</td>\n",
              "      <td>7</td>\n",
              "      <td>1125</td>\n",
              "      <td>1125</td>\n",
              "      <td>7.0</td>\n",
              "      <td>1125.0</td>\n",
              "      <td>NaN</td>\n",
              "      <td>t</td>\n",
              "      <td>0</td>\n",
              "      <td>0</td>\n",
              "      <td>1</td>\n",
              "      <td>13</td>\n",
              "      <td>2021-09-11</td>\n",
              "      <td>104</td>\n",
              "      <td>0</td>\n",
              "      <td>0</td>\n",
              "      <td>2015-12-23</td>\n",
              "      <td>2019-06-28</td>\n",
              "      <td>4.80</td>\n",
              "      <td>4.85</td>\n",
              "      <td>4.80</td>\n",
              "      <td>4.94</td>\n",
              "      <td>4.90</td>\n",
              "      <td>4.84</td>\n",
              "      <td>4.63</td>\n",
              "      <td>7510501304104</td>\n",
              "      <td>f</td>\n",
              "      <td>1</td>\n",
              "      <td>1</td>\n",
              "      <td>0</td>\n",
              "      <td>0</td>\n",
              "      <td>1.49</td>\n",
              "    </tr>\n",
              "  </tbody>\n",
              "</table>\n",
              "<p>9773 rows × 74 columns</p>\n",
              "</div>"
            ],
            "text/plain": [
              "           id  ... reviews_per_month\n",
              "0        5396  ...              2.68\n",
              "1        7397  ...              2.26\n",
              "2        7964  ...              0.07\n",
              "3        9359  ...               NaN\n",
              "4        9952  ...              0.50\n",
              "...       ...  ...               ...\n",
              "9768  8851179  ...              2.41\n",
              "9769  8852290  ...              0.35\n",
              "9770  8853567  ...              0.28\n",
              "9771  8854749  ...               NaN\n",
              "9772  8854802  ...              1.49\n",
              "\n",
              "[9773 rows x 74 columns]"
            ]
          },
          "metadata": {},
          "execution_count": 116
        }
      ]
    },
    {
      "cell_type": "markdown",
      "metadata": {
        "id": "TOMAowM_6T0K"
      },
      "source": [
        "**Check boolean and numerical categories**"
      ]
    },
    {
      "cell_type": "code",
      "metadata": {
        "colab": {
          "base_uri": "https://localhost:8080/",
          "height": 1000
        },
        "id": "NTL17Lt25rkx",
        "outputId": "1df66411-21c9-43f2-d8af-2154b9f93d68"
      },
      "source": [
        "# Plotting the distribution of numerical and boolean categories\n",
        "data.hist(figsize=(25,25));"
      ],
      "execution_count": 82,
      "outputs": [
        {
          "output_type": "display_data",
          "data": {
            "image/png": "[encoded data removed]",
            "text/plain": [
              "<Figure size 1800x1800 with 42 Axes>"
            ]
          },
          "metadata": {
            "needs_background": "light"
          }
        }
      ]
    },
    {
      "cell_type": "markdown",
      "metadata": {
        "id": "23qW2v8ngvBk"
      },
      "source": [
        "**Drop unrelated columns**"
      ]
    },
    {
      "cell_type": "markdown",
      "metadata": {
        "id": "E7z07lVxg32N"
      },
      "source": [
        "This project is not going to implement sentiment analysis or text processing to make a predictive model, maybe in the future. Hence, for now columns containing reviews, summary, rules, and so on will be dropped. Columns that have just single unique value will be eliminated as well. Other columns that do not seem to be related to price will also be removed for simplicity reason but we might use them later if necessary."
      ]
    },
    {
      "cell_type": "code",
      "metadata": {
        "id": "Vc5fToiiibwA"
      },
      "source": [
        "# Drop unused columns \n",
        "data = data.drop([\"listing_url\", \"scrape_id\", \"last_scraped\", \"name\", \n",
        "           \"description\", \"neighborhood_overview\", \"picture_url\", \"host_id\", \n",
        "           \"host_url\", \"host_name\", \"host_location\", \"host_about\", \"host_thumbnail_url\",\n",
        "           \"host_picture_url\", \"host_thumbnail_url\", \"host_picture_url\", \"host_verifications\",\n",
        "           \"calendar_last_scraped\", \"number_of_reviews\", \"number_of_reviews_ltm\",\n",
        "           \"first_review\", \"last_review\", \"license\", \"reviews_per_month\", \"host_neighbourhood\",\n",
        "           \"host_listings_count\", \"host_has_profile_pic\",\n",
        "           \"host_acceptance_rate\", \"host_total_listings_count\", \n",
        "           \"host_identity_verified\", \"neighbourhood\", \n",
        "           \"minimum_minimum_nights\", \"maximum_minimum_nights\", \"minimum_maximum_nights\", \n",
        "           \"maximum_maximum_nights\", \"minimum_nights_avg_ntm\", \"maximum_nights_avg_ntm\", \n",
        "           \"amenities\", \"has_availability\", \"availability_30\", \"availability_60\", \n",
        "           \"availability_90\", \"availability_365\", \"calculated_host_listings_count\",\n",
        "           \"calculated_host_listings_count_entire_homes\", \"calculated_host_listings_count_private_rooms\",\n",
        "           \"calculated_host_listings_count_shared_rooms\"\n",
        "           ], axis=1)"
      ],
      "execution_count": 117,
      "outputs": []
    },
    {
      "cell_type": "markdown",
      "metadata": {
        "id": "MsfqYdP74Oaa"
      },
      "source": [
        "**Missing values**"
      ]
    },
    {
      "cell_type": "code",
      "metadata": {
        "id": "GwcAwkXjbKYy",
        "colab": {
          "base_uri": "https://localhost:8080/",
          "height": 592
        },
        "outputId": "4a5f2d79-3fa8-4fbc-ce76-839618b99e76"
      },
      "source": [
        "# Calculate missing values\n",
        "missing_data_pecentage = data.isna().sum()/len(data.index)*100\n",
        "\n",
        "# Plot missing values\n",
        "missing_data_pecentage.plot(kind=\"bar\", color=\"darkorange\", figsize=(10,7))\n",
        "plt.xlabel(\"Variables\")\n",
        "plt.ylabel(\"Missing values (%)\")\n",
        "plt.show()"
      ],
      "execution_count": 118,
      "outputs": [
        {
          "output_type": "display_data",
          "data": {
            "image/png": "[encoded data removed]",
            "text/plain": [
              "<Figure size 720x504 with 1 Axes>"
            ]
          },
          "metadata": {
            "needs_background": "light"
          }
        }
      ]
    },
    {
      "cell_type": "markdown",
      "metadata": {
        "id": "7tQZ5smc5nuH"
      },
      "source": [
        "We are going to drop columns with significant missing values. Row(s) in the \"id\" column that contains NaN will also be dropped because we can't subtitute data in \"id\" column with alternative data such as median, mean, mode, or else."
      ]
    },
    {
      "cell_type": "code",
      "metadata": {
        "id": "v2gqFUNn7nq7"
      },
      "source": [
        "# Drop columns with significant missing data\n",
        "data = data.drop([\"review_scores_rating\", \"review_scores_accuracy\", \"review_scores_cleanliness\", \n",
        "                  \"review_scores_checkin\", \"review_scores_communication\", \"calendar_updated\",\n",
        "                  \"review_scores_location\", \"review_scores_value\", \"neighbourhood_group_cleansed\", \n",
        "                  \"host_response_time\", \"host_response_rate\"],\n",
        "                  axis=1)"
      ],
      "execution_count": 85,
      "outputs": []
    },
    {
      "cell_type": "code",
      "metadata": {
        "colab": {
          "base_uri": "https://localhost:8080/",
          "height": 69
        },
        "id": "43SUFdzarrCc",
        "outputId": "08407f4d-40d0-4287-b294-62b807e108b1"
      },
      "source": [
        "# Find row in which \"id\" that contains NaN value(s)\n",
        "data[data[\"id\"].isnull()]"
      ],
      "execution_count": 86,
      "outputs": [
        {
          "output_type": "execute_result",
          "data": {
            "text/html": [
              "<div>\n",
              "<style scoped>\n",
              "    .dataframe tbody tr th:only-of-type {\n",
              "        vertical-align: middle;\n",
              "    }\n",
              "\n",
              "    .dataframe tbody tr th {\n",
              "        vertical-align: top;\n",
              "    }\n",
              "\n",
              "    .dataframe thead th {\n",
              "        text-align: right;\n",
              "    }\n",
              "</style>\n",
              "<table border=\"1\" class=\"dataframe\">\n",
              "  <thead>\n",
              "    <tr style=\"text-align: right;\">\n",
              "      <th></th>\n",
              "      <th>id</th>\n",
              "      <th>host_since</th>\n",
              "      <th>neighbourhood_cleansed</th>\n",
              "      <th>latitude</th>\n",
              "      <th>longitude</th>\n",
              "      <th>property_type</th>\n",
              "      <th>room_type</th>\n",
              "      <th>accommodates</th>\n",
              "      <th>bathrooms</th>\n",
              "      <th>bathrooms_text</th>\n",
              "      <th>bedrooms</th>\n",
              "      <th>beds</th>\n",
              "      <th>price</th>\n",
              "      <th>minimum_nights</th>\n",
              "      <th>maximum_nights</th>\n",
              "      <th>number_of_reviews_l30d</th>\n",
              "      <th>instant_bookable</th>\n",
              "    </tr>\n",
              "  </thead>\n",
              "  <tbody>\n",
              "  </tbody>\n",
              "</table>\n",
              "</div>"
            ],
            "text/plain": [
              "Empty DataFrame\n",
              "Columns: [id, host_since, neighbourhood_cleansed, latitude, longitude, property_type, room_type, accommodates, bathrooms, bathrooms_text, bedrooms, beds, price, minimum_nights, maximum_nights, number_of_reviews_l30d, instant_bookable]\n",
              "Index: []"
            ]
          },
          "metadata": {},
          "execution_count": 86
        }
      ]
    },
    {
      "cell_type": "markdown",
      "metadata": {
        "id": "z_OWiYRJ2HeV"
      },
      "source": [
        "It seems there is no missing values in \"id\" column."
      ]
    },
    {
      "cell_type": "markdown",
      "metadata": {
        "id": "6dBlPIwG9Dnb"
      },
      "source": [
        "**Check duplicates**"
      ]
    },
    {
      "cell_type": "code",
      "metadata": {
        "id": "qNFuaYps8-be",
        "colab": {
          "base_uri": "https://localhost:8080/",
          "height": 69
        },
        "outputId": "36647500-dd4d-41fc-e84d-e51b0b30e257"
      },
      "source": [
        "data[data.duplicated()]"
      ],
      "execution_count": 87,
      "outputs": [
        {
          "output_type": "execute_result",
          "data": {
            "text/html": [
              "<div>\n",
              "<style scoped>\n",
              "    .dataframe tbody tr th:only-of-type {\n",
              "        vertical-align: middle;\n",
              "    }\n",
              "\n",
              "    .dataframe tbody tr th {\n",
              "        vertical-align: top;\n",
              "    }\n",
              "\n",
              "    .dataframe thead th {\n",
              "        text-align: right;\n",
              "    }\n",
              "</style>\n",
              "<table border=\"1\" class=\"dataframe\">\n",
              "  <thead>\n",
              "    <tr style=\"text-align: right;\">\n",
              "      <th></th>\n",
              "      <th>id</th>\n",
              "      <th>host_since</th>\n",
              "      <th>neighbourhood_cleansed</th>\n",
              "      <th>latitude</th>\n",
              "      <th>longitude</th>\n",
              "      <th>property_type</th>\n",
              "      <th>room_type</th>\n",
              "      <th>accommodates</th>\n",
              "      <th>bathrooms</th>\n",
              "      <th>bathrooms_text</th>\n",
              "      <th>bedrooms</th>\n",
              "      <th>beds</th>\n",
              "      <th>price</th>\n",
              "      <th>minimum_nights</th>\n",
              "      <th>maximum_nights</th>\n",
              "      <th>number_of_reviews_l30d</th>\n",
              "      <th>instant_bookable</th>\n",
              "    </tr>\n",
              "  </thead>\n",
              "  <tbody>\n",
              "  </tbody>\n",
              "</table>\n",
              "</div>"
            ],
            "text/plain": [
              "Empty DataFrame\n",
              "Columns: [id, host_since, neighbourhood_cleansed, latitude, longitude, property_type, room_type, accommodates, bathrooms, bathrooms_text, bedrooms, beds, price, minimum_nights, maximum_nights, number_of_reviews_l30d, instant_bookable]\n",
              "Index: []"
            ]
          },
          "metadata": {},
          "execution_count": 87
        }
      ]
    },
    {
      "cell_type": "markdown",
      "metadata": {
        "id": "gROiOJIf_xO9"
      },
      "source": [
        "**Descriptive statistics**"
      ]
    },
    {
      "cell_type": "code",
      "metadata": {
        "id": "R2SEDsnN_SWJ",
        "colab": {
          "base_uri": "https://localhost:8080/",
          "height": 297
        },
        "outputId": "e5c2c28a-bc69-47b8-bc5c-3dbce47a02f5"
      },
      "source": [
        "# Print basic statistics of the data\n",
        "data.describe()"
      ],
      "execution_count": 88,
      "outputs": [
        {
          "output_type": "execute_result",
          "data": {
            "text/html": [
              "<div>\n",
              "<style scoped>\n",
              "    .dataframe tbody tr th:only-of-type {\n",
              "        vertical-align: middle;\n",
              "    }\n",
              "\n",
              "    .dataframe tbody tr th {\n",
              "        vertical-align: top;\n",
              "    }\n",
              "\n",
              "    .dataframe thead th {\n",
              "        text-align: right;\n",
              "    }\n",
              "</style>\n",
              "<table border=\"1\" class=\"dataframe\">\n",
              "  <thead>\n",
              "    <tr style=\"text-align: right;\">\n",
              "      <th></th>\n",
              "      <th>id</th>\n",
              "      <th>latitude</th>\n",
              "      <th>longitude</th>\n",
              "      <th>accommodates</th>\n",
              "      <th>bathrooms</th>\n",
              "      <th>bedrooms</th>\n",
              "      <th>beds</th>\n",
              "      <th>minimum_nights</th>\n",
              "      <th>maximum_nights</th>\n",
              "      <th>number_of_reviews_l30d</th>\n",
              "    </tr>\n",
              "  </thead>\n",
              "  <tbody>\n",
              "    <tr>\n",
              "      <th>count</th>\n",
              "      <td>9.773000e+03</td>\n",
              "      <td>9773.000000</td>\n",
              "      <td>9773.000000</td>\n",
              "      <td>9773.000000</td>\n",
              "      <td>0.0</td>\n",
              "      <td>8307.000000</td>\n",
              "      <td>9764.000000</td>\n",
              "      <td>9773.000000</td>\n",
              "      <td>9773.000000</td>\n",
              "      <td>9773.000000</td>\n",
              "    </tr>\n",
              "    <tr>\n",
              "      <th>mean</th>\n",
              "      <td>4.566605e+06</td>\n",
              "      <td>48.863963</td>\n",
              "      <td>2.347418</td>\n",
              "      <td>3.084519</td>\n",
              "      <td>NaN</td>\n",
              "      <td>1.399302</td>\n",
              "      <td>1.708316</td>\n",
              "      <td>152.778778</td>\n",
              "      <td>791.000205</td>\n",
              "      <td>0.224701</td>\n",
              "    </tr>\n",
              "    <tr>\n",
              "      <th>std</th>\n",
              "      <td>2.555640e+06</td>\n",
              "      <td>0.018012</td>\n",
              "      <td>0.032536</td>\n",
              "      <td>1.543349</td>\n",
              "      <td>NaN</td>\n",
              "      <td>0.728039</td>\n",
              "      <td>1.125500</td>\n",
              "      <td>202.618378</td>\n",
              "      <td>1115.873109</td>\n",
              "      <td>0.763510</td>\n",
              "    </tr>\n",
              "    <tr>\n",
              "      <th>min</th>\n",
              "      <td>5.396000e+03</td>\n",
              "      <td>48.816560</td>\n",
              "      <td>2.235490</td>\n",
              "      <td>1.000000</td>\n",
              "      <td>NaN</td>\n",
              "      <td>1.000000</td>\n",
              "      <td>0.000000</td>\n",
              "      <td>1.000000</td>\n",
              "      <td>1.000000</td>\n",
              "      <td>0.000000</td>\n",
              "    </tr>\n",
              "    <tr>\n",
              "      <th>25%</th>\n",
              "      <td>2.306018e+06</td>\n",
              "      <td>48.851160</td>\n",
              "      <td>2.328356</td>\n",
              "      <td>2.000000</td>\n",
              "      <td>NaN</td>\n",
              "      <td>1.000000</td>\n",
              "      <td>1.000000</td>\n",
              "      <td>3.000000</td>\n",
              "      <td>120.000000</td>\n",
              "      <td>0.000000</td>\n",
              "    </tr>\n",
              "    <tr>\n",
              "      <th>50%</th>\n",
              "      <td>4.756532e+06</td>\n",
              "      <td>48.865010</td>\n",
              "      <td>2.349990</td>\n",
              "      <td>2.000000</td>\n",
              "      <td>NaN</td>\n",
              "      <td>1.000000</td>\n",
              "      <td>1.000000</td>\n",
              "      <td>7.000000</td>\n",
              "      <td>1125.000000</td>\n",
              "      <td>0.000000</td>\n",
              "    </tr>\n",
              "    <tr>\n",
              "      <th>75%</th>\n",
              "      <td>6.912410e+06</td>\n",
              "      <td>48.878620</td>\n",
              "      <td>2.371830</td>\n",
              "      <td>4.000000</td>\n",
              "      <td>NaN</td>\n",
              "      <td>2.000000</td>\n",
              "      <td>2.000000</td>\n",
              "      <td>365.000000</td>\n",
              "      <td>1125.000000</td>\n",
              "      <td>0.000000</td>\n",
              "    </tr>\n",
              "    <tr>\n",
              "      <th>max</th>\n",
              "      <td>8.854802e+06</td>\n",
              "      <td>48.901120</td>\n",
              "      <td>2.467050</td>\n",
              "      <td>16.000000</td>\n",
              "      <td>NaN</td>\n",
              "      <td>7.000000</td>\n",
              "      <td>16.000000</td>\n",
              "      <td>9999.000000</td>\n",
              "      <td>99999.000000</td>\n",
              "      <td>12.000000</td>\n",
              "    </tr>\n",
              "  </tbody>\n",
              "</table>\n",
              "</div>"
            ],
            "text/plain": [
              "                 id     latitude  ...  maximum_nights  number_of_reviews_l30d\n",
              "count  9.773000e+03  9773.000000  ...     9773.000000             9773.000000\n",
              "mean   4.566605e+06    48.863963  ...      791.000205                0.224701\n",
              "std    2.555640e+06     0.018012  ...     1115.873109                0.763510\n",
              "min    5.396000e+03    48.816560  ...        1.000000                0.000000\n",
              "25%    2.306018e+06    48.851160  ...      120.000000                0.000000\n",
              "50%    4.756532e+06    48.865010  ...     1125.000000                0.000000\n",
              "75%    6.912410e+06    48.878620  ...     1125.000000                0.000000\n",
              "max    8.854802e+06    48.901120  ...    99999.000000               12.000000\n",
              "\n",
              "[8 rows x 10 columns]"
            ]
          },
          "metadata": {},
          "execution_count": 88
        }
      ]
    },
    {
      "cell_type": "code",
      "metadata": {
        "id": "C4lAyRKn_i-v",
        "colab": {
          "base_uri": "https://localhost:8080/",
          "height": 173
        },
        "outputId": "906b6e3e-8955-4b77-fd62-6f7e60c6d06a"
      },
      "source": [
        "# Print the statistics including columns with object data type\n",
        "data.describe(include=['object'])"
      ],
      "execution_count": 89,
      "outputs": [
        {
          "output_type": "execute_result",
          "data": {
            "text/html": [
              "<div>\n",
              "<style scoped>\n",
              "    .dataframe tbody tr th:only-of-type {\n",
              "        vertical-align: middle;\n",
              "    }\n",
              "\n",
              "    .dataframe tbody tr th {\n",
              "        vertical-align: top;\n",
              "    }\n",
              "\n",
              "    .dataframe thead th {\n",
              "        text-align: right;\n",
              "    }\n",
              "</style>\n",
              "<table border=\"1\" class=\"dataframe\">\n",
              "  <thead>\n",
              "    <tr style=\"text-align: right;\">\n",
              "      <th></th>\n",
              "      <th>host_since</th>\n",
              "      <th>neighbourhood_cleansed</th>\n",
              "      <th>property_type</th>\n",
              "      <th>room_type</th>\n",
              "      <th>bathrooms_text</th>\n",
              "      <th>price</th>\n",
              "      <th>instant_bookable</th>\n",
              "    </tr>\n",
              "  </thead>\n",
              "  <tbody>\n",
              "    <tr>\n",
              "      <th>count</th>\n",
              "      <td>9764</td>\n",
              "      <td>9773</td>\n",
              "      <td>9773</td>\n",
              "      <td>9773</td>\n",
              "      <td>9749</td>\n",
              "      <td>9773</td>\n",
              "      <td>9773</td>\n",
              "    </tr>\n",
              "    <tr>\n",
              "      <th>unique</th>\n",
              "      <td>1698</td>\n",
              "      <td>20</td>\n",
              "      <td>40</td>\n",
              "      <td>4</td>\n",
              "      <td>25</td>\n",
              "      <td>417</td>\n",
              "      <td>2</td>\n",
              "    </tr>\n",
              "    <tr>\n",
              "      <th>top</th>\n",
              "      <td>2013-07-22</td>\n",
              "      <td>Buttes-Montmartre</td>\n",
              "      <td>Entire rental unit</td>\n",
              "      <td>Entire home/apt</td>\n",
              "      <td>1 bath</td>\n",
              "      <td>$60.00</td>\n",
              "      <td>f</td>\n",
              "    </tr>\n",
              "    <tr>\n",
              "      <th>freq</th>\n",
              "      <td>78</td>\n",
              "      <td>1111</td>\n",
              "      <td>7799</td>\n",
              "      <td>8404</td>\n",
              "      <td>7725</td>\n",
              "      <td>462</td>\n",
              "      <td>8548</td>\n",
              "    </tr>\n",
              "  </tbody>\n",
              "</table>\n",
              "</div>"
            ],
            "text/plain": [
              "        host_since neighbourhood_cleansed  ...   price instant_bookable\n",
              "count         9764                   9773  ...    9773             9773\n",
              "unique        1698                     20  ...     417                2\n",
              "top     2013-07-22      Buttes-Montmartre  ...  $60.00                f\n",
              "freq            78                   1111  ...     462             8548\n",
              "\n",
              "[4 rows x 7 columns]"
            ]
          },
          "metadata": {},
          "execution_count": 89
        }
      ]
    },
    {
      "cell_type": "code",
      "metadata": {
        "id": "XpFlO4Iw2PXW",
        "colab": {
          "base_uri": "https://localhost:8080/"
        },
        "outputId": "e0e1cba1-7cd3-4a42-a3a8-ede663b4ec73"
      },
      "source": [
        "# Print data types of each column\n",
        "data.dtypes"
      ],
      "execution_count": 90,
      "outputs": [
        {
          "output_type": "execute_result",
          "data": {
            "text/plain": [
              "id                          int64\n",
              "host_since                 object\n",
              "neighbourhood_cleansed     object\n",
              "latitude                  float64\n",
              "longitude                 float64\n",
              "property_type              object\n",
              "room_type                  object\n",
              "accommodates                int64\n",
              "bathrooms                 float64\n",
              "bathrooms_text             object\n",
              "bedrooms                  float64\n",
              "beds                      float64\n",
              "price                      object\n",
              "minimum_nights              int64\n",
              "maximum_nights              int64\n",
              "number_of_reviews_l30d      int64\n",
              "instant_bookable           object\n",
              "dtype: object"
            ]
          },
          "metadata": {},
          "execution_count": 90
        }
      ]
    },
    {
      "cell_type": "markdown",
      "metadata": {
        "id": "RpNI3w02Jxfd"
      },
      "source": [
        "##**Feature Engineering**"
      ]
    },
    {
      "cell_type": "markdown",
      "metadata": {
        "id": "t5QHcMpA9dP4"
      },
      "source": [
        "**Create a dataframe of locations**"
      ]
    },
    {
      "cell_type": "code",
      "metadata": {
        "id": "tFETaMZ89cO-"
      },
      "source": [
        "# Make a dataframe from longitude and latitude\n",
        "long_lat = data[['longitude', 'latitude']]"
      ],
      "execution_count": 91,
      "outputs": []
    },
    {
      "cell_type": "markdown",
      "metadata": {
        "id": "CmpEcPmFH-qS"
      },
      "source": [
        "###**Inspect columns**"
      ]
    },
    {
      "cell_type": "markdown",
      "metadata": {
        "id": "EO_m2b7eKt9g"
      },
      "source": [
        "**host_since**"
      ]
    },
    {
      "cell_type": "markdown",
      "metadata": {
        "id": "mWxZTgM6LLhr"
      },
      "source": [
        "We will create a new feature called \"active_days\" by substracting the last_scraped date to host_since."
      ]
    },
    {
      "cell_type": "code",
      "metadata": {
        "colab": {
          "base_uri": "https://localhost:8080/"
        },
        "id": "EyaY5IP_K4vE",
        "outputId": "373772a0-b0c4-4a01-83ec-28a1b6fb51a8"
      },
      "source": [
        "# Convert to datetime\n",
        "data.host_since = pd.to_datetime(data.host_since) \n",
        "\n",
        "# Calculate the number of days\n",
        "data['active_days'] = (datetime(2019, 4, 9) - data.host_since).astype('timedelta64[D]')\n",
        "\n",
        "# Print mean and median\n",
        "print(\"Mean days as host:\", round(data['active_days'].mean(),0))\n",
        "print(\"Median days as host:\", data['active_days'].median())\n",
        "\n",
        "# Replace null values with the median\n",
        "data.active_days.fillna(data.active_days.median(), inplace=True)"
      ],
      "execution_count": 92,
      "outputs": [
        {
          "output_type": "stream",
          "name": "stdout",
          "text": [
            "Mean days as host: 1914.0\n",
            "Median days as host: 1844.5\n"
          ]
        }
      ]
    },
    {
      "cell_type": "markdown",
      "metadata": {
        "id": "P4xVAbfFOk-N"
      },
      "source": [
        "**room_type and property_type**"
      ]
    },
    {
      "cell_type": "code",
      "metadata": {
        "colab": {
          "base_uri": "https://localhost:8080/"
        },
        "id": "cZEmxJWiXJy1",
        "outputId": "b82b4c9e-780b-4c07-fb05-174d1e0cc413"
      },
      "source": [
        "# Print categories in room_type\n",
        "data.room_type.value_counts()"
      ],
      "execution_count": 93,
      "outputs": [
        {
          "output_type": "execute_result",
          "data": {
            "text/plain": [
              "Entire home/apt    8404\n",
              "Private room       1328\n",
              "Shared room          37\n",
              "Hotel room            4\n",
              "Name: room_type, dtype: int64"
            ]
          },
          "metadata": {},
          "execution_count": 93
        }
      ]
    },
    {
      "cell_type": "code",
      "metadata": {
        "colab": {
          "base_uri": "https://localhost:8080/"
        },
        "id": "JE7z7o0BDrnr",
        "outputId": "362bd6a8-32ce-497d-cb2d-85a28df1a206"
      },
      "source": [
        "# Print categories in property_type\n",
        "data.property_type.value_counts()"
      ],
      "execution_count": 94,
      "outputs": [
        {
          "output_type": "execute_result",
          "data": {
            "text/plain": [
              "Entire rental unit                     7799\n",
              "Private room in rental unit            1173\n",
              "Entire loft                             256\n",
              "Entire condominium (condo)              179\n",
              "Entire residential home                  92\n",
              "Entire townhouse                         38\n",
              "Private room in bed and breakfast        34\n",
              "Shared room in rental unit               34\n",
              "Private room in condominium (condo)      33\n",
              "Private room in residential home         33\n",
              "Private room in loft                     20\n",
              "Private room in townhouse                13\n",
              "Entire serviced apartment                12\n",
              "Entire guesthouse                         9\n",
              "Tiny house                                5\n",
              "Private room in guest suite               4\n",
              "Private room in guesthouse                4\n",
              "Room in serviced apartment                3\n",
              "Private room                              3\n",
              "Room in boutique hotel                    3\n",
              "Entire villa                              3\n",
              "Entire guest suite                        2\n",
              "Entire place                              2\n",
              "Private room in nature lodge              2\n",
              "Room in hotel                             2\n",
              "Private room in earth house               1\n",
              "Private room in villa                     1\n",
              "Boat                                      1\n",
              "Cave                                      1\n",
              "Shared room in igloo                      1\n",
              "Houseboat                                 1\n",
              "Floor                                     1\n",
              "Entire bed and breakfast                  1\n",
              "Shared room in loft                       1\n",
              "Room in bed and breakfast                 1\n",
              "Entire cottage                            1\n",
              "Private room in chalet                    1\n",
              "Private room in serviced apartment        1\n",
              "Earth house                               1\n",
              "Shared room in residential home           1\n",
              "Name: property_type, dtype: int64"
            ]
          },
          "metadata": {},
          "execution_count": 94
        }
      ]
    },
    {
      "cell_type": "markdown",
      "metadata": {
        "id": "8kE1BmGSRKwd"
      },
      "source": [
        "Since room_type and property_type have similar categories, we will use only room type, drop the property_type, and categorize them to three labels which are \"entire unit\", \"private room\", and \"other\"."
      ]
    },
    {
      "cell_type": "code",
      "metadata": {
        "id": "d_8LJoeVRoie"
      },
      "source": [
        "# Replacing other categories with 'other'\n",
        "data.loc[~data.property_type.isin(['Entire home/apt', 'Private room']), 'room_type'] = 'Other'"
      ],
      "execution_count": 95,
      "outputs": []
    },
    {
      "cell_type": "code",
      "metadata": {
        "id": "yFDIcyp4iy22"
      },
      "source": [
        "# Drop property_type\n",
        "data = data.drop([\"property_type\"], axis=1)"
      ],
      "execution_count": 96,
      "outputs": []
    },
    {
      "cell_type": "markdown",
      "metadata": {
        "id": "qp8d8LZaWc_X"
      },
      "source": [
        "**bathrooms, bedrooms and beds**"
      ]
    },
    {
      "cell_type": "code",
      "metadata": {
        "colab": {
          "base_uri": "https://localhost:8080/"
        },
        "id": "fWy3vpgxWbcp",
        "outputId": "dbbab13c-002e-4c3e-b821-57e95ac9bf0c"
      },
      "source": [
        "# Print categories in bathrooms\n",
        "data.bathrooms.unique()"
      ],
      "execution_count": 97,
      "outputs": [
        {
          "output_type": "execute_result",
          "data": {
            "text/plain": [
              "array([nan])"
            ]
          },
          "metadata": {},
          "execution_count": 97
        }
      ]
    },
    {
      "cell_type": "markdown",
      "metadata": {
        "id": "cH8VWd-B5Dmr"
      },
      "source": [
        "Drop \"bathrooms\" since it only contains NaN values."
      ]
    },
    {
      "cell_type": "code",
      "metadata": {
        "id": "bvbFkMEq5Jio"
      },
      "source": [
        "# Drop \"bathrooms\"\n",
        "data = data.drop([\"bathrooms\"], axis=1)"
      ],
      "execution_count": 98,
      "outputs": []
    },
    {
      "cell_type": "markdown",
      "metadata": {
        "id": "n-D428z35PZT"
      },
      "source": [
        "Let's change categorical data of bathrooms_text to numerical."
      ]
    },
    {
      "cell_type": "code",
      "metadata": {
        "colab": {
          "base_uri": "https://localhost:8080/"
        },
        "id": "yJ0Q-hlPkv8G",
        "outputId": "5387f66a-ed19-459c-8579-f28f5c6a8928"
      },
      "source": [
        "# Print categories in bathrooms_text\n",
        "data.bathrooms_text.unique()"
      ],
      "execution_count": 99,
      "outputs": [
        {
          "output_type": "execute_result",
          "data": {
            "text/plain": [
              "array(['1 bath', '1 private bath', '1.5 baths', '2 baths',\n",
              "       '1 shared bath', '1.5 shared baths', nan, '2.5 baths',\n",
              "       '2 shared baths', '4 baths', 'Half-bath', '3 baths', '3.5 baths',\n",
              "       '4.5 baths', 'Shared half-bath', '7 shared baths', '0 baths',\n",
              "       '0 shared baths', '5 baths', 'Private half-bath',\n",
              "       '2.5 shared baths', '6.5 shared baths', '6 baths', '8 baths',\n",
              "       '3 shared baths', '7 baths'], dtype=object)"
            ]
          },
          "metadata": {},
          "execution_count": 99
        }
      ]
    },
    {
      "cell_type": "code",
      "metadata": {
        "id": "_M7jx_O_xSul"
      },
      "source": [
        "# Replace bathrooms_text data to numerical\n",
        "data.bathrooms_text.replace({\n",
        "    '1 bath': 1,\n",
        "    '1 private bath': 1,\n",
        "    '1.5 baths': 1,\n",
        "    '2 baths': 2,\n",
        "    '1 shared bath': 1,\n",
        "    '1.5 shared baths': 1,\n",
        "    '2.5 baths': 2,\n",
        "    '2 shared baths': 2,\n",
        "    '4 baths': 4,\n",
        "    'Half-bath': 1,\n",
        "    '3 baths': 3,\n",
        "    '3.5 baths': 3,\n",
        "    '4.5 baths': 4,\n",
        "    'Shared half-bath': 1,\n",
        "    '7 shared baths': 7,\n",
        "    '0 baths': 0,\n",
        "    '0 shared baths': 0,\n",
        "    '5 baths': 5,\n",
        "    'Private half-bath': 1,\n",
        "    '2.5 shared baths': 2,\n",
        "    '6.5 shared baths': 6,\n",
        "    '6 baths': 6,\n",
        "    '8 baths': 8,\n",
        "    '3 shared baths': 3,\n",
        "    '7 baths': 7,  \n",
        "    }, inplace=True)"
      ],
      "execution_count": 100,
      "outputs": []
    },
    {
      "cell_type": "code",
      "metadata": {
        "id": "MsvtQ2oM3IES"
      },
      "source": [
        "# Replace null values with the median\n",
        "data.bathrooms_text.fillna(data.bathrooms_text.median(), inplace=True)"
      ],
      "execution_count": 101,
      "outputs": []
    },
    {
      "cell_type": "code",
      "metadata": {
        "id": "rLy4NT473n9L"
      },
      "source": [
        "# Change data type to integer\n",
        "data.bathrooms_text = data.bathrooms_text.astype('int32')"
      ],
      "execution_count": 102,
      "outputs": []
    },
    {
      "cell_type": "code",
      "metadata": {
        "id": "CXmo8P7Cka-A"
      },
      "source": [
        "# Change column name\n",
        "data = data.rename(columns = {'bathrooms_text':'bathrooms'})"
      ],
      "execution_count": 103,
      "outputs": []
    },
    {
      "cell_type": "markdown",
      "metadata": {
        "id": "Lylgiotn8Ug1"
      },
      "source": [
        "Change NaN values in beds to median."
      ]
    },
    {
      "cell_type": "code",
      "metadata": {
        "colab": {
          "base_uri": "https://localhost:8080/"
        },
        "id": "VB-nSVzx2yj9",
        "outputId": "777c1b35-70c7-46d8-f85c-0c97c23fd4c1"
      },
      "source": [
        "data.beds.unique()"
      ],
      "execution_count": 104,
      "outputs": [
        {
          "output_type": "execute_result",
          "data": {
            "text/plain": [
              "array([ 1.,  2.,  3.,  0.,  4.,  5.,  6.,  8., nan,  9.,  7., 11., 12.,\n",
              "       16.])"
            ]
          },
          "metadata": {},
          "execution_count": 104
        }
      ]
    },
    {
      "cell_type": "code",
      "metadata": {
        "id": "fwf8Qmc68Bku"
      },
      "source": [
        "# Replace null values with the median\n",
        "data.beds.fillna(data.beds.median(), inplace=True)"
      ],
      "execution_count": 105,
      "outputs": []
    },
    {
      "cell_type": "code",
      "metadata": {
        "id": "Xo8Lu8mx8wXw"
      },
      "source": [
        "# Change data type to integer\n",
        "data.beds = data.beds.astype('int32')"
      ],
      "execution_count": 106,
      "outputs": []
    },
    {
      "cell_type": "markdown",
      "metadata": {
        "id": "_7uBvIYv9oWn"
      },
      "source": [
        "**price**"
      ]
    },
    {
      "cell_type": "markdown",
      "metadata": {
        "id": "0eRUVLfPHDfi"
      },
      "source": [
        "We will drop the currency sign from price strings and change them to integer."
      ]
    },
    {
      "cell_type": "code",
      "metadata": {
        "colab": {
          "base_uri": "https://localhost:8080/"
        },
        "id": "bWjwdVUA9q-W",
        "outputId": "79c06e8e-6485-4c30-a95b-00a3961c33ca"
      },
      "source": [
        "data.price.unique()"
      ],
      "execution_count": 107,
      "outputs": [
        {
          "output_type": "execute_result",
          "data": {
            "text/plain": [
              "array(['$110.00', '$100.00', '$130.00', '$75.00', '$80.00', '$143.00',\n",
              "       '$170.00', '$60.00', '$74.00', '$139.00', '$90.00', '$70.00',\n",
              "       '$111.00', '$63.00', '$150.00', '$65.00', '$250.00', '$108.00',\n",
              "       '$134.00', '$98.00', '$200.00', '$95.00', '$59.00', '$64.00',\n",
              "       '$120.00', '$97.00', '$50.00', '$117.00', '$153.00', '$88.00',\n",
              "       '$129.00', '$160.00', '$179.00', '$115.00', '$32.00', '$45.00',\n",
              "       '$676.00', '$105.00', '$79.00', '$78.00', '$140.00', '$158.00',\n",
              "       '$36.00', '$149.00', '$85.00', '$119.00', '$81.00', '$106.00',\n",
              "       '$396.00', '$86.00', '$84.00', '$69.00', '$159.00', '$33.00',\n",
              "       '$135.00', '$55.00', '$56.00', '$99.00', '$145.00', '$71.00',\n",
              "       '$82.00', '$125.00', '$215.00', '$175.00', '$344.00', '$178.00',\n",
              "       '$449.00', '$39.00', '$109.00', '$49.00', '$190.00', '$44.00',\n",
              "       '$180.00', '$40.00', '$61.00', '$52.00', '$83.00', '$46.00',\n",
              "       '$89.00', '$280.00', '$38.00', '$142.00', '$76.00', '$103.00',\n",
              "       '$245.00', '$155.00', '$67.00', '$87.00', '$92.00', '$220.00',\n",
              "       '$144.00', '$35.00', '$8,000.00', '$93.00', '$7,000.00', '$68.00',\n",
              "       '$58.00', '$118.00', '$700.00', '$350.00', '$53.00', '$42.00',\n",
              "       '$171.00', '$57.00', '$154.00', '$114.00', '$460.00', '$600.00',\n",
              "       '$210.00', '$128.00', '$270.00', '$249.00', '$161.00', '$400.00',\n",
              "       '$185.00', '$260.00', '$136.00', '$169.00', '$126.00', '$113.00',\n",
              "       '$133.00', '$235.00', '$195.00', '$314.00', '$290.00', '$165.00',\n",
              "       '$121.00', '$47.00', '$131.00', '$73.00', '$299.00', '$181.00',\n",
              "       '$320.00', '$388.00', '$167.00', '$322.00', '$51.00', '$28.00',\n",
              "       '$257.00', '$66.00', '$450.00', '$146.00', '$230.00', '$599.00',\n",
              "       '$62.00', '$240.00', '$96.00', '$193.00', '$741.00', '$107.00',\n",
              "       '$72.00', '$300.00', '$330.00', '$94.00', '$41.00', '$266.00',\n",
              "       '$152.00', '$430.00', '$833.00', '$116.00', '$440.00', '$101.00',\n",
              "       '$285.00', '$13.00', '$29.00', '$192.00', '$331.00', '$1,142.00',\n",
              "       '$377.00', '$48.00', '$380.00', '$343.00', '$187.00', '$124.00',\n",
              "       '$500.00', '$77.00', '$289.00', '$102.00', '$20.00', '$43.00',\n",
              "       '$571.00', '$414.00', '$30.00', '$127.00', '$248.00', '$123.00',\n",
              "       '$900.00', '$196.00', '$275.00', '$211.00', '$91.00', '$148.00',\n",
              "       '$1,357.00', '$295.00', '$340.00', '$206.00', '$219.00', '$186.00',\n",
              "       '$434.00', '$104.00', '$312.00', '$189.00', '$141.00', '$286.00',\n",
              "       '$223.00', '$360.00', '$54.00', '$204.00', '$132.00', '$176.00',\n",
              "       '$233.00', '$650.00', '$168.00', '$138.00', '$166.00', '$122.00',\n",
              "       '$349.00', '$37.00', '$23.00', '$315.00', '$147.00', '$374.00',\n",
              "       '$990.00', '$410.00', '$213.00', '$27.00', '$25.00', '$277.00',\n",
              "       '$226.00', '$26.00', '$31.00', '$10.00', '$778.00', '$156.00',\n",
              "       '$580.00', '$209.00', '$269.00', '$1,000.00', '$207.00', '$367.00',\n",
              "       '$268.00', '$225.00', '$301.00', '$293.00', '$339.00', '$395.00',\n",
              "       '$157.00', '$470.00', '$221.00', '$172.00', '$390.00', '$686.00',\n",
              "       '$246.00', '$480.00', '$399.00', '$236.00', '$662.00', '$319.00',\n",
              "       '$203.00', '$489.00', '$199.00', '$640.00', '$308.00', '$305.00',\n",
              "       '$259.00', '$707.00', '$307.00', '$274.00', '$173.00', '$163.00',\n",
              "       '$401.00', '$800.00', '$1,035.00', '$34.00', '$201.00', '$252.00',\n",
              "       '$317.00', '$321.00', '$379.00', '$15.00', '$164.00', '$262.00',\n",
              "       '$242.00', '$464.00', '$585.00', '$419.00', '$174.00', '$162.00',\n",
              "       '$228.00', '$254.00', '$292.00', '$256.00', '$463.00', '$202.00',\n",
              "       '$184.00', '$284.00', '$779.00', '$264.00', '$151.00', '$482.00',\n",
              "       '$370.00', '$243.00', '$666.00', '$197.00', '$194.00', '$255.00',\n",
              "       '$1,429.00', '$198.00', '$456.00', '$513.00', '$17.00', '$19.00',\n",
              "       '$24.00', '$22.00', '$492.00', '$534.00', '$490.00', '$253.00',\n",
              "       '$302.00', '$291.00', '$417.00', '$304.00', '$191.00', '$525.00',\n",
              "       '$750.00', '$420.00', '$288.00', '$438.00', '$443.00', '$550.00',\n",
              "       '$222.00', '$493.00', '$310.00', '$850.00', '$457.00', '$389.00',\n",
              "       '$298.00', '$1,071.00', '$475.00', '$279.00', '$8.00', '$346.00',\n",
              "       '$182.00', '$11.00', '$205.00', '$329.00', '$429.00', '$425.00',\n",
              "       '$345.00', '$406.00', '$365.00', '$381.00', '$439.00', '$436.00',\n",
              "       '$137.00', '$1,500.00', '$244.00', '$723.00', '$749.00', '$112.00',\n",
              "       '$499.00', '$261.00', '$294.00', '$451.00', '$229.00', '$660.00',\n",
              "       '$510.00', '$363.00', '$431.00', '$231.00', '$423.00', '$258.00',\n",
              "       '$276.00', '$325.00', '$373.00', '$1,300.00', '$638.00', '$710.00',\n",
              "       '$4,000.00', '$214.00', '$237.00', '$634.00', '$474.00', '$398.00',\n",
              "       '$476.00', '$359.00', '$1,350.00', '$332.00', '$1,099.00',\n",
              "       '$3,000.00', '$870.00', '$1,543.00', '$212.00', '$830.00',\n",
              "       '$428.00', '$313.00', '$336.00', '$265.00', '$1,037.00', '$387.00',\n",
              "       '$455.00', '$21.00', '$239.00', '$357.00', '$354.00', '$1,615.00',\n",
              "       '$5,000.00', '$297.00', '$6,742.00', '$309.00', '$208.00',\n",
              "       '$251.00', '$680.00', '$183.00', '$355.00', '$333.00', '$469.00'],\n",
              "      dtype=object)"
            ]
          },
          "metadata": {},
          "execution_count": 107
        }
      ]
    },
    {
      "cell_type": "code",
      "metadata": {
        "colab": {
          "base_uri": "https://localhost:8080/"
        },
        "id": "9Glre_rX-nO1",
        "outputId": "f3b6ac07-d944-4e58-c54a-95c6e35675c2"
      },
      "source": [
        "# Format price\n",
        "data.price = data.price.str[1:-3]\n",
        "data.price = data.price.str.replace(\",\", \"\")\n",
        "data.price = data.price.astype('int32')\n",
        "data.price"
      ],
      "execution_count": 108,
      "outputs": [
        {
          "output_type": "execute_result",
          "data": {
            "text/plain": [
              "0       110\n",
              "1       100\n",
              "2       130\n",
              "3        75\n",
              "4        80\n",
              "       ... \n",
              "9768    298\n",
              "9769     95\n",
              "9770     60\n",
              "9771     65\n",
              "9772    109\n",
              "Name: price, Length: 9773, dtype: int32"
            ]
          },
          "metadata": {},
          "execution_count": 108
        }
      ]
    },
    {
      "cell_type": "markdown",
      "metadata": {
        "id": "1a880QzNXMJX"
      },
      "source": [
        "**host_is_superhost**"
      ]
    },
    {
      "cell_type": "code",
      "metadata": {
        "colab": {
          "base_uri": "https://localhost:8080/"
        },
        "id": "7OqaMQkDXQdQ",
        "outputId": "b7d61560-e23f-4639-e679-a30538c2af37"
      },
      "source": [
        "# Print value counts\n",
        "print(data.host_is_superhost.unique())\n",
        "print(data.host_is_superhost.value_counts())"
      ],
      "execution_count": 121,
      "outputs": [
        {
          "output_type": "stream",
          "name": "stdout",
          "text": [
            "['f' 't' nan]\n",
            "f    8395\n",
            "t    1369\n",
            "Name: host_is_superhost, dtype: int64\n"
          ]
        }
      ]
    },
    {
      "cell_type": "code",
      "metadata": {
        "id": "9PZUm4GqX8kU"
      },
      "source": [
        "# Replace binary categorical data to 0 and 1\n",
        "data.host_is_superhost.replace({'f': 0, 't': 1}, inplace=True)"
      ],
      "execution_count": 122,
      "outputs": []
    },
    {
      "cell_type": "code",
      "metadata": {
        "id": "cqHPrJLxY1wA"
      },
      "source": [
        "# Change data type to integer\n",
        "data.host_is_superhost = data.host_is_superhost.astype('int32')"
      ],
      "execution_count": 125,
      "outputs": []
    },
    {
      "cell_type": "code",
      "metadata": {
        "id": "qzIeDHb5XqY0"
      },
      "source": [
        "# Replace null values with the median\n",
        "data.host_is_superhost.fillna(data.host_is_superhost.median(), inplace=True)"
      ],
      "execution_count": 123,
      "outputs": []
    },
    {
      "cell_type": "markdown",
      "metadata": {
        "id": "gsjpDlYm57jJ"
      },
      "source": [
        ""
      ]
    },
    {
      "cell_type": "markdown",
      "metadata": {
        "id": "lWxE-gqg5822"
      },
      "source": [
        ""
      ]
    },
    {
      "cell_type": "markdown",
      "metadata": {
        "id": "uId91aap565o"
      },
      "source": [
        ""
      ]
    },
    {
      "cell_type": "markdown",
      "metadata": {
        "id": "l9hxaSjS56gb"
      },
      "source": [
        ""
      ]
    },
    {
      "cell_type": "markdown",
      "metadata": {
        "id": "DPsxCEPs2qEo"
      },
      "source": [
        "Let's change the data type of some columns that suit them better."
      ]
    },
    {
      "cell_type": "code",
      "metadata": {
        "id": "9Iietv_0AgOO",
        "colab": {
          "base_uri": "https://localhost:8080/"
        },
        "outputId": "f0573958-0efd-4b84-97d3-e03090c5c7fa"
      },
      "source": [
        "# Check unique values of each column\n",
        "print(data.apply(lambda col: col.unique()))"
      ],
      "execution_count": 109,
      "outputs": [
        {
          "output_type": "stream",
          "name": "stdout",
          "text": [
            "id                        [5396, 7397, 7964, 9359, 9952, 10586, 10588, 1...\n",
            "host_since                [2009-02-14T00:00:00.000000000, 2008-08-30T00:...\n",
            "neighbourhood_cleansed    [Hôtel-de-Ville, Opéra, Louvre, Popincourt, Bu...\n",
            "latitude                  [48.852470000000004, 48.85909, 48.87417, 48.86...\n",
            "longitude                 [2.35835, 2.35315, 2.34245, 2.34863, 2.37093, ...\n",
            "room_type                                             [Other, Private room]\n",
            "accommodates              [2, 4, 6, 3, 5, 1, 7, 8, 9, 10, 14, 12, 11, 16...\n",
            "bathrooms                                       [1, 2, 4, 3, 7, 0, 5, 6, 8]\n",
            "bedrooms                           [nan, 2.0, 1.0, 3.0, 4.0, 5.0, 6.0, 7.0]\n",
            "beds                             [1, 2, 3, 0, 4, 5, 6, 8, 9, 7, 11, 12, 16]\n",
            "price                     [110, 100, 130, 75, 80, 143, 170, 60, 74, 139,...\n",
            "minimum_nights            [2, 10, 6, 180, 4, 30, 1, 7, 365, 3, 5, 15, 10...\n",
            "maximum_nights            [1125, 130, 365, 31, 300, 730, 279, 120, 305, ...\n",
            "number_of_reviews_l30d                  [3, 2, 0, 1, 4, 12, 6, 5, 7, 10, 9]\n",
            "instant_bookable                                                     [f, t]\n",
            "active_days               [3706.0, 3874.0, 3582.0, 3541.0, 3515.0, 3500....\n",
            "dtype: object\n"
          ]
        }
      ]
    },
    {
      "cell_type": "markdown",
      "metadata": {
        "id": "uCtB-IiyUWu3"
      },
      "source": [
        "**Address remaining NaN values**"
      ]
    },
    {
      "cell_type": "code",
      "metadata": {
        "id": "cWxQFU93eQo9",
        "colab": {
          "base_uri": "https://localhost:8080/",
          "height": 668
        },
        "outputId": "40d3ae42-432c-42df-a4e0-c3eeee3969b3"
      },
      "source": [
        "corr = data.corr()\n",
        "mask = np.triu(np.ones_like(corr, dtype=bool))\n",
        "f, ax = plt.subplots(figsize=(11, 9))\n",
        "cmap = sns.diverging_palette(230, 20, as_cmap=True)\n",
        "sns.heatmap(corr, mask=mask, cmap=cmap, vmax=.3, center=0,\n",
        "            square=True, linewidths=.5, cbar_kws={\"shrink\": .5})"
      ],
      "execution_count": 115,
      "outputs": [
        {
          "output_type": "execute_result",
          "data": {
            "text/plain": [
              "<matplotlib.axes._subplots.AxesSubplot at 0x7fe7154be250>"
            ]
          },
          "metadata": {},
          "execution_count": 115
        },
        {
          "output_type": "display_data",
          "data": {
            "image/png": "[encoded data removed]",
            "text/plain": [
              "<Figure size 792x648 with 2 Axes>"
            ]
          },
          "metadata": {
            "needs_background": "light"
          }
        }
      ]
    },
    {
      "cell_type": "code",
      "metadata": {
        "id": "wg6h6VRdfXnk"
      },
      "source": [
        ""
      ],
      "execution_count": 114,
      "outputs": []
    }
  ]
}